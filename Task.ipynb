{
 "cells": [
  {
   "cell_type": "code",
   "execution_count": 95,
   "id": "95e627e9",
   "metadata": {},
   "outputs": [],
   "source": [
    "import pandas as pd\n",
    "import re\n",
    "import datetime"
   ]
  },
  {
   "cell_type": "code",
   "execution_count": 96,
   "id": "23d1b7f9",
   "metadata": {},
   "outputs": [],
   "source": [
    "belsimple_path = r'C:\\Users\\Aniket22\\OneDrive\\Desktop\\Task\\coding_task_1\\raw_belsimpel.xlsx'\n",
    "shopee_path = r'C:\\Users\\Aniket22\\OneDrive\\Desktop\\Task\\coding_task_1\\raw_shopee_Sg.xlsx'\n",
    "output_path = r'C:\\Users\\Aniket22\\OneDrive\\Desktop\\Task\\coding_task_1\\output_shopee_belsimpel.xlsx'"
   ]
  },
  {
   "cell_type": "code",
   "execution_count": 97,
   "id": "7d6548da",
   "metadata": {},
   "outputs": [],
   "source": [
    "##Belsimpel\n"
   ]
  },
  {
   "cell_type": "code",
   "execution_count": 98,
   "id": "8ecda9c8",
   "metadata": {},
   "outputs": [
    {
     "name": "stderr",
     "output_type": "stream",
     "text": [
      "C:\\Users\\Aniket22\\AppData\\Local\\Temp\\ipykernel_18352\\3553394248.py:5: FutureWarning: Inferring datetime64[ns] from data containing strings is deprecated and will be removed in a future version. To retain the old behavior explicitly pass Series(data, dtype=datetime64[ns])\n",
      "  output_df = pd.read_excel(output_path)\n"
     ]
    }
   ],
   "source": [
    "belsimple_df = pd.read_excel(belsimple_path).dropna(subset = ['Review Text', 'Pro_Con Review'], how='all')\n",
    "fillna_values = {'Review Text' : '', 'Pro_Con Review':''}\n",
    "belsimple_df.fillna(fillna_values, inplace=True)\n",
    "shopee_df = pd.read_excel(shopee_path)\n",
    "output_df = pd.read_excel(output_path)"
   ]
  },
  {
   "cell_type": "code",
   "execution_count": 99,
   "id": "3a5d808c",
   "metadata": {},
   "outputs": [
    {
     "name": "stdout",
     "output_type": "stream",
     "text": [
      "<class 'pandas.core.frame.DataFrame'>\n",
      "RangeIndex: 411 entries, 0 to 410\n",
      "Data columns (total 5 columns):\n",
      " #   Column       Non-Null Count  Dtype         \n",
      "---  ------       --------------  -----         \n",
      " 0   Country      411 non-null    object        \n",
      " 1   Source       411 non-null    object        \n",
      " 2   Rating       411 non-null    int64         \n",
      " 3   Review Date  411 non-null    datetime64[ns]\n",
      " 4   Review Text  411 non-null    object        \n",
      "dtypes: datetime64[ns](1), int64(1), object(3)\n",
      "memory usage: 16.2+ KB\n"
     ]
    }
   ],
   "source": [
    "output_df.info()"
   ]
  },
  {
   "cell_type": "code",
   "execution_count": 100,
   "id": "16e6cb92",
   "metadata": {},
   "outputs": [],
   "source": [
    "final_output_df = pd.DataFrame(columns = ['Country', 'Source', 'Rating', 'Review Date', 'Review Text'])"
   ]
  },
  {
   "cell_type": "code",
   "execution_count": 101,
   "id": "544cb08e",
   "metadata": {},
   "outputs": [],
   "source": [
    "def get_pros_and_cons(review):\n",
    "    if type(review)==str:\n",
    "        splitted = review.split('Minpunt')\n",
    "        cons = splitted[1:]\n",
    "        pros = splitted[0].split('Pluspunt')\n",
    "        cons = list(map(str.strip, cons))\n",
    "        pros = list(map(str.strip, pros))\n",
    "        return f\"'.' Pros: {', '.join(pros[1:])} '.' Cons: {', '.join(cons)}\"\n",
    "    else:\n",
    "        return ''"
   ]
  },
  {
   "cell_type": "code",
   "execution_count": 102,
   "id": "75a83f64",
   "metadata": {},
   "outputs": [],
   "source": [
    "def get_datetime(text):\n",
    "    day = re.search('\\d{2}-\\d{2}-\\d{4}', text)\n",
    "    return str(datetime.datetime.strptime(day.group(), '%d-%m-%Y'))"
   ]
  },
  {
   "cell_type": "code",
   "execution_count": 103,
   "id": "eb5e0220",
   "metadata": {},
   "outputs": [],
   "source": [
    "belsimple_final_reviews = []\n",
    "for index, row in belsimple_df.iterrows():\n",
    "    belsimple_final_reviews.append((row['Review Text'] + ' ' + get_pros_and_cons(row['Pro_Con Review'])).strip())\n",
    "\n",
    "belsimple_df['Review Text'] = belsimple_final_reviews"
   ]
  },
  {
   "cell_type": "code",
   "execution_count": 104,
   "id": "2f8ff48e",
   "metadata": {},
   "outputs": [
    {
     "data": {
      "text/plain": [
       "True"
      ]
     },
     "execution_count": 104,
     "metadata": {},
     "output_type": "execute_result"
    }
   ],
   "source": [
    "#  sanity check\n",
    "random_row = 99\n",
    "belsimple_df.iloc[random_row, 4]==output_df['Review Text'][random_row]"
   ]
  },
  {
   "cell_type": "code",
   "execution_count": 105,
   "id": "86f862e7",
   "metadata": {},
   "outputs": [],
   "source": [
    "belsimple_df['Review Date'] = belsimple_df['Review Date'].apply(get_datetime)"
   ]
  },
  {
   "cell_type": "code",
   "execution_count": 106,
   "id": "6834e892",
   "metadata": {},
   "outputs": [],
   "source": [
    "belsimple_df['Rating'] = belsimple_df['Rating'].apply(lambda x : int(float((x.split()[0]).strip())))"
   ]
  },
  {
   "cell_type": "code",
   "execution_count": 107,
   "id": "8b6c8669",
   "metadata": {},
   "outputs": [],
   "source": [
    "belsimple_df['Country'] = 'Netherlands'\n",
    "belsimple_df['Source'] = 'Belsimple'"
   ]
  },
  {
   "cell_type": "code",
   "execution_count": 108,
   "id": "4b3a14d3",
   "metadata": {},
   "outputs": [],
   "source": [
    "final_output_df = pd.concat([final_output_df, belsimple_df[['Country', 'Source', 'Rating', 'Review Date', 'Review Text']]], axis=0)"
   ]
  },
  {
   "cell_type": "code",
   "execution_count": 109,
   "id": "86956dd9",
   "metadata": {},
   "outputs": [
    {
     "data": {
      "text/html": [
       "<div>\n",
       "<style scoped>\n",
       "    .dataframe tbody tr th:only-of-type {\n",
       "        vertical-align: middle;\n",
       "    }\n",
       "\n",
       "    .dataframe tbody tr th {\n",
       "        vertical-align: top;\n",
       "    }\n",
       "\n",
       "    .dataframe thead th {\n",
       "        text-align: right;\n",
       "    }\n",
       "</style>\n",
       "<table border=\"1\" class=\"dataframe\">\n",
       "  <thead>\n",
       "    <tr style=\"text-align: right;\">\n",
       "      <th></th>\n",
       "      <th>Country</th>\n",
       "      <th>Source</th>\n",
       "      <th>Rating</th>\n",
       "      <th>Review Date</th>\n",
       "      <th>Review Text</th>\n",
       "    </tr>\n",
       "  </thead>\n",
       "  <tbody>\n",
       "    <tr>\n",
       "      <th>0</th>\n",
       "      <td>Netherlands</td>\n",
       "      <td>Belsimple</td>\n",
       "      <td>5</td>\n",
       "      <td>2022-10-20 00:00:00</td>\n",
       "      <td>Vanaf een Huawei P30 pro die kapot ging de ove...</td>\n",
       "    </tr>\n",
       "    <tr>\n",
       "      <th>1</th>\n",
       "      <td>Netherlands</td>\n",
       "      <td>Belsimple</td>\n",
       "      <td>5</td>\n",
       "      <td>2022-10-18 00:00:00</td>\n",
       "      <td>Voor de pure Android liefhebber is het een uit...</td>\n",
       "    </tr>\n",
       "    <tr>\n",
       "      <th>2</th>\n",
       "      <td>Netherlands</td>\n",
       "      <td>Belsimple</td>\n",
       "      <td>4</td>\n",
       "      <td>2022-10-17 00:00:00</td>\n",
       "      <td>Na jaren geleden 2x een Nexus gehad te hebben ...</td>\n",
       "    </tr>\n",
       "    <tr>\n",
       "      <th>3</th>\n",
       "      <td>Netherlands</td>\n",
       "      <td>Belsimple</td>\n",
       "      <td>5</td>\n",
       "      <td>2022-10-14 00:00:00</td>\n",
       "      <td>Ik had hiervoor al de Pixel 6, daar was niks m...</td>\n",
       "    </tr>\n",
       "    <tr>\n",
       "      <th>4</th>\n",
       "      <td>Netherlands</td>\n",
       "      <td>Belsimple</td>\n",
       "      <td>4</td>\n",
       "      <td>2022-10-27 00:00:00</td>\n",
       "      <td>Pixel 7 nu een ruime week in bezit, en beval m...</td>\n",
       "    </tr>\n",
       "  </tbody>\n",
       "</table>\n",
       "</div>"
      ],
      "text/plain": [
       "       Country     Source Rating          Review Date  \\\n",
       "0  Netherlands  Belsimple      5  2022-10-20 00:00:00   \n",
       "1  Netherlands  Belsimple      5  2022-10-18 00:00:00   \n",
       "2  Netherlands  Belsimple      4  2022-10-17 00:00:00   \n",
       "3  Netherlands  Belsimple      5  2022-10-14 00:00:00   \n",
       "4  Netherlands  Belsimple      4  2022-10-27 00:00:00   \n",
       "\n",
       "                                         Review Text  \n",
       "0  Vanaf een Huawei P30 pro die kapot ging de ove...  \n",
       "1  Voor de pure Android liefhebber is het een uit...  \n",
       "2  Na jaren geleden 2x een Nexus gehad te hebben ...  \n",
       "3  Ik had hiervoor al de Pixel 6, daar was niks m...  \n",
       "4  Pixel 7 nu een ruime week in bezit, en beval m...  "
      ]
     },
     "execution_count": 109,
     "metadata": {},
     "output_type": "execute_result"
    }
   ],
   "source": [
    "final_output_df.head()"
   ]
  },
  {
   "cell_type": "code",
   "execution_count": 110,
   "id": "0ba9dd34",
   "metadata": {},
   "outputs": [],
   "source": [
    "##shopee"
   ]
  },
  {
   "cell_type": "code",
   "execution_count": 111,
   "id": "900d36d6",
   "metadata": {},
   "outputs": [],
   "source": [
    "shopee_df['Rating'] = shopee_df['Rating'].apply(lambda x : x.count('polygon points'))"
   ]
  },
  {
   "cell_type": "code",
   "execution_count": 112,
   "id": "5f79e514",
   "metadata": {},
   "outputs": [],
   "source": [
    "def get_datetime_shopee_sg(text):\n",
    "    day = re.search('\\d{4}-\\d{2}-\\d{2}', text)\n",
    "    return str(datetime.datetime.strptime(day.group(), '%Y-%m-%d'))"
   ]
  },
  {
   "cell_type": "code",
   "execution_count": 113,
   "id": "ed794dee",
   "metadata": {},
   "outputs": [],
   "source": [
    "shopee_df['Review Date'] = shopee_df['Review Date'].apply(get_datetime_shopee_sg)"
   ]
  },
  {
   "cell_type": "code",
   "execution_count": 114,
   "id": "e0607154",
   "metadata": {},
   "outputs": [],
   "source": [
    "def get_review_text_shopee(text):\n",
    "    text_list = text.split('</div>')\n",
    "    if len(text_list)==1:\n",
    "        return text\n",
    "    final_text_list = []\n",
    "    \n",
    "    for text in text_list:\n",
    "        final_text_list.append(re.compile(r'<[^>]+>').sub('', text))\n",
    "    return \" '.' \".join(final_text_list[:-1])\n"
   ]
  },
  {
   "cell_type": "code",
   "execution_count": 115,
   "id": "46c3b585",
   "metadata": {},
   "outputs": [],
   "source": [
    "shopee_df['Review Text'] = shopee_df['Review Text'].apply(get_review_text_shopee)"
   ]
  },
  {
   "cell_type": "code",
   "execution_count": 116,
   "id": "150e6e05",
   "metadata": {},
   "outputs": [
    {
     "data": {
      "text/plain": [
       "True"
      ]
     },
     "execution_count": 116,
     "metadata": {},
     "output_type": "execute_result"
    }
   ],
   "source": [
    "#  sanity check\n",
    "random_row = 7\n",
    "shopee_df['Review Text'][random_row]==output_df['Review Text'][381+random_row]"
   ]
  },
  {
   "cell_type": "code",
   "execution_count": 117,
   "id": "58a5a1ac",
   "metadata": {},
   "outputs": [],
   "source": [
    "shopee_df['Country'] = 'Singapore'\n",
    "shopee_df['Source'] = 'Shopee-SG'"
   ]
  },
  {
   "cell_type": "code",
   "execution_count": 118,
   "id": "b1a33778",
   "metadata": {},
   "outputs": [],
   "source": [
    "final_output_df = pd.concat([final_output_df, shopee_df[['Country', 'Source', 'Rating', 'Review Date', 'Review Text']]], axis=0)"
   ]
  },
  {
   "cell_type": "code",
   "execution_count": 119,
   "id": "3f2cdbf9",
   "metadata": {},
   "outputs": [
    {
     "data": {
      "text/html": [
       "<div>\n",
       "<style scoped>\n",
       "    .dataframe tbody tr th:only-of-type {\n",
       "        vertical-align: middle;\n",
       "    }\n",
       "\n",
       "    .dataframe tbody tr th {\n",
       "        vertical-align: top;\n",
       "    }\n",
       "\n",
       "    .dataframe thead th {\n",
       "        text-align: right;\n",
       "    }\n",
       "</style>\n",
       "<table border=\"1\" class=\"dataframe\">\n",
       "  <thead>\n",
       "    <tr style=\"text-align: right;\">\n",
       "      <th></th>\n",
       "      <th>Country</th>\n",
       "      <th>Source</th>\n",
       "      <th>Rating</th>\n",
       "      <th>Review Date</th>\n",
       "      <th>Review Text</th>\n",
       "    </tr>\n",
       "  </thead>\n",
       "  <tbody>\n",
       "    <tr>\n",
       "      <th>0</th>\n",
       "      <td>Netherlands</td>\n",
       "      <td>Belsimple</td>\n",
       "      <td>5</td>\n",
       "      <td>2022-10-20 00:00:00</td>\n",
       "      <td>Vanaf een Huawei P30 pro die kapot ging de ove...</td>\n",
       "    </tr>\n",
       "    <tr>\n",
       "      <th>1</th>\n",
       "      <td>Netherlands</td>\n",
       "      <td>Belsimple</td>\n",
       "      <td>5</td>\n",
       "      <td>2022-10-18 00:00:00</td>\n",
       "      <td>Voor de pure Android liefhebber is het een uit...</td>\n",
       "    </tr>\n",
       "    <tr>\n",
       "      <th>2</th>\n",
       "      <td>Netherlands</td>\n",
       "      <td>Belsimple</td>\n",
       "      <td>4</td>\n",
       "      <td>2022-10-17 00:00:00</td>\n",
       "      <td>Na jaren geleden 2x een Nexus gehad te hebben ...</td>\n",
       "    </tr>\n",
       "    <tr>\n",
       "      <th>3</th>\n",
       "      <td>Netherlands</td>\n",
       "      <td>Belsimple</td>\n",
       "      <td>5</td>\n",
       "      <td>2022-10-14 00:00:00</td>\n",
       "      <td>Ik had hiervoor al de Pixel 6, daar was niks m...</td>\n",
       "    </tr>\n",
       "    <tr>\n",
       "      <th>4</th>\n",
       "      <td>Netherlands</td>\n",
       "      <td>Belsimple</td>\n",
       "      <td>4</td>\n",
       "      <td>2022-10-27 00:00:00</td>\n",
       "      <td>Pixel 7 nu een ruime week in bezit, en beval m...</td>\n",
       "    </tr>\n",
       "    <tr>\n",
       "      <th>...</th>\n",
       "      <td>...</td>\n",
       "      <td>...</td>\n",
       "      <td>...</td>\n",
       "      <td>...</td>\n",
       "      <td>...</td>\n",
       "    </tr>\n",
       "    <tr>\n",
       "      <th>25</th>\n",
       "      <td>Singapore</td>\n",
       "      <td>Shopee-SG</td>\n",
       "      <td>5</td>\n",
       "      <td>2022-09-22 00:00:00</td>\n",
       "      <td>Performance: should be good '.' Best Feature(s...</td>\n",
       "    </tr>\n",
       "    <tr>\n",
       "      <th>26</th>\n",
       "      <td>Singapore</td>\n",
       "      <td>Shopee-SG</td>\n",
       "      <td>5</td>\n",
       "      <td>2022-10-10 00:00:00</td>\n",
       "      <td>Performance: GREAT '.' Best Feature(s): color ...</td>\n",
       "    </tr>\n",
       "    <tr>\n",
       "      <th>27</th>\n",
       "      <td>Singapore</td>\n",
       "      <td>Shopee-SG</td>\n",
       "      <td>5</td>\n",
       "      <td>2022-10-15 00:00:00</td>\n",
       "      <td>Delivery was very fast within 1day. Packaging ...</td>\n",
       "    </tr>\n",
       "    <tr>\n",
       "      <th>28</th>\n",
       "      <td>Singapore</td>\n",
       "      <td>Shopee-SG</td>\n",
       "      <td>5</td>\n",
       "      <td>2022-10-12 00:00:00</td>\n",
       "      <td>Performance: - '.' Best Feature(s): - '.' Valu...</td>\n",
       "    </tr>\n",
       "    <tr>\n",
       "      <th>29</th>\n",
       "      <td>Singapore</td>\n",
       "      <td>Shopee-SG</td>\n",
       "      <td>5</td>\n",
       "      <td>2022-12-06 00:00:00</td>\n",
       "      <td>Performance: Good '.' Best Feature(s): Good '....</td>\n",
       "    </tr>\n",
       "  </tbody>\n",
       "</table>\n",
       "<p>411 rows × 5 columns</p>\n",
       "</div>"
      ],
      "text/plain": [
       "        Country     Source Rating          Review Date  \\\n",
       "0   Netherlands  Belsimple      5  2022-10-20 00:00:00   \n",
       "1   Netherlands  Belsimple      5  2022-10-18 00:00:00   \n",
       "2   Netherlands  Belsimple      4  2022-10-17 00:00:00   \n",
       "3   Netherlands  Belsimple      5  2022-10-14 00:00:00   \n",
       "4   Netherlands  Belsimple      4  2022-10-27 00:00:00   \n",
       "..          ...        ...    ...                  ...   \n",
       "25    Singapore  Shopee-SG      5  2022-09-22 00:00:00   \n",
       "26    Singapore  Shopee-SG      5  2022-10-10 00:00:00   \n",
       "27    Singapore  Shopee-SG      5  2022-10-15 00:00:00   \n",
       "28    Singapore  Shopee-SG      5  2022-10-12 00:00:00   \n",
       "29    Singapore  Shopee-SG      5  2022-12-06 00:00:00   \n",
       "\n",
       "                                          Review Text  \n",
       "0   Vanaf een Huawei P30 pro die kapot ging de ove...  \n",
       "1   Voor de pure Android liefhebber is het een uit...  \n",
       "2   Na jaren geleden 2x een Nexus gehad te hebben ...  \n",
       "3   Ik had hiervoor al de Pixel 6, daar was niks m...  \n",
       "4   Pixel 7 nu een ruime week in bezit, en beval m...  \n",
       "..                                                ...  \n",
       "25  Performance: should be good '.' Best Feature(s...  \n",
       "26  Performance: GREAT '.' Best Feature(s): color ...  \n",
       "27  Delivery was very fast within 1day. Packaging ...  \n",
       "28  Performance: - '.' Best Feature(s): - '.' Valu...  \n",
       "29  Performance: Good '.' Best Feature(s): Good '....  \n",
       "\n",
       "[411 rows x 5 columns]"
      ]
     },
     "execution_count": 119,
     "metadata": {},
     "output_type": "execute_result"
    }
   ],
   "source": [
    "final_output_df"
   ]
  },
  {
   "cell_type": "code",
   "execution_count": 120,
   "id": "811e4175",
   "metadata": {},
   "outputs": [
    {
     "data": {
      "text/plain": [
       "(411, 5)"
      ]
     },
     "execution_count": 120,
     "metadata": {},
     "output_type": "execute_result"
    }
   ],
   "source": [
    "final_output_df.shape"
   ]
  },
  {
   "cell_type": "code",
   "execution_count": null,
   "id": "87e8eccd",
   "metadata": {},
   "outputs": [],
   "source": []
  }
 ],
 "metadata": {
  "kernelspec": {
   "display_name": "Python 3 (ipykernel)",
   "language": "python",
   "name": "python3"
  },
  "language_info": {
   "codemirror_mode": {
    "name": "ipython",
    "version": 3
   },
   "file_extension": ".py",
   "mimetype": "text/x-python",
   "name": "python",
   "nbconvert_exporter": "python",
   "pygments_lexer": "ipython3",
   "version": "3.10.9"
  }
 },
 "nbformat": 4,
 "nbformat_minor": 5
}
